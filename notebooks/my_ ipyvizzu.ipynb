{
 "cells": [
  {
   "cell_type": "code",
   "execution_count": null,
   "id": "a2073fcc-fc5a-40dd-bd1f-118b0f7412f7",
   "metadata": {},
   "outputs": [],
   "source": [
    "from ipyvizzu import Chart, Data, Config\n",
    "import pandas as pd\n",
    "\n",
    "df = pd.read_csv('data/your_data.csv')\n",
    "\n",
    "chart = Chart()\n",
    "chart.animate(Data.from_pandas(df))  # Used Data.from_pandas for compatibility\n",
    "chart.animate(Config({\"x\": \"year\", \"y\": \"sales\"}))\n",
    "# Run this in Jupyter to see the animation"
   ]
  }
 ],
 "metadata": {
  "kernelspec": {
   "display_name": "Python 3 (ipykernel)",
   "language": "python",
   "name": "python3"
  },
  "language_info": {
   "codemirror_mode": {
    "name": "ipython",
    "version": 3
   },
   "file_extension": ".py",
   "mimetype": "text/x-python",
   "name": "python",
   "nbconvert_exporter": "python",
   "pygments_lexer": "ipython3",
   "version": "3.9.23"
  }
 },
 "nbformat": 4,
 "nbformat_minor": 5
}
