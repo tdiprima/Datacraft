{
 "cells": [
  {
   "cell_type": "code",
   "execution_count": null,
   "id": "07008322-f8f9-4599-878c-45e64a43b30f",
   "metadata": {},
   "outputs": [],
   "source": [
    "import lux  # Lux modifies Pandas behavior\n",
    "import pandas as pd\n",
    "\n",
    "df = pd.read_csv(\"data/your_data.csv\")\n",
    "df  # Just displaying df triggers Lux visualizations in Jupyter"
   ]
  },
  {
   "cell_type": "code",
   "execution_count": null,
   "id": "c5888e29-1df8-46bc-95eb-32bb3aa68fb7",
   "metadata": {},
   "outputs": [],
   "source": [
    "Use df.intent = [\"sales\", \"year\"]  # for custom insights if needed"
   ]
  }
 ],
 "metadata": {
  "kernelspec": {
   "display_name": "Python 3 (ipykernel)",
   "language": "python",
   "name": "python3"
  },
  "language_info": {
   "codemirror_mode": {
    "name": "ipython",
    "version": 3
   },
   "file_extension": ".py",
   "mimetype": "text/x-python",
   "name": "python",
   "nbconvert_exporter": "python",
   "pygments_lexer": "ipython3",
   "version": "3.9.23"
  }
 },
 "nbformat": 4,
 "nbformat_minor": 5
}
